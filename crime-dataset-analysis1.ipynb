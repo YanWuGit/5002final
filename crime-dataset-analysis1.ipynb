{
 "cells": [
  {
   "cell_type": "markdown",
   "id": "d6f18e59",
   "metadata": {
    "_cell_guid": "b1076dfc-b9ad-4769-8c92-a6c4dae69d19",
    "_uuid": "8f2839f25d086af736a60e9eeb907d3b93b6e0e5",
    "papermill": {
     "duration": 0.008593,
     "end_time": "2022-08-30T21:40:57.148768",
     "exception": false,
     "start_time": "2022-08-30T21:40:57.140175",
     "status": "completed"
    },
    "tags": []
   },
   "source": [
    "# Crime Dataset Analysis Python 🔫 \n",
    "\n",
    "<div class=\"alert alert-block alert-info\" style=\"font-size:16px; font-family:Helvetica;\">\n",
    "     📌 in this notebook we'll try to analyse crime dataset registered at Seattle with python and useful libraries to exploit and understand what the data mean and always try to make a relationship between differents fields even if they are not correlated everytime. \n",
    "</div>\n",
    "\n",
    "\n",
    "![image](https://m.media-amazon.com/images/M/MV5BYTVhZTFiODMtYjgyMy00YzIwLWE5NmEtZDBjN2VhZTM2YmQyXkEyXkFqcGdeQXVyMTQ3Njg3MQ@@._V1_FMjpg_UX1000_.jpg)"
   ]
  },
  {
   "cell_type": "markdown",
   "id": "974acda5",
   "metadata": {
    "papermill": {
     "duration": 0.006783,
     "end_time": "2022-08-30T21:40:57.162706",
     "exception": false,
     "start_time": "2022-08-30T21:40:57.155923",
     "status": "completed"
    },
    "tags": []
   },
   "source": [
    "> The file contains approximately 481,000 crime reports from Seattle, WA covering a span of approximately 10 years.\n",
    "For each crime offense this file includes date and time information, crime categories and description, police department information including sector, beat, and precinct, and neighborhood name."
   ]
  },
  {
   "cell_type": "markdown",
   "id": "4686a1ef",
   "metadata": {
    "papermill": {
     "duration": 0.006672,
     "end_time": "2022-08-30T21:40:57.176462",
     "exception": false,
     "start_time": "2022-08-30T21:40:57.169790",
     "status": "completed"
    },
    "tags": []
   },
   "source": [
    "# Used Library 📖 <br>\n",
    "We'll use basic python libraries\n",
    "*  Numpy link: https://numpy.org\n",
    "*  Pandas link: https://pandas.pydata.org\n",
    "*  Matplotlib link: https://matplotlib.org\n",
    "*  Plotly link: https://plotly.com\n",
    "*  Seaborn link: https://seaborn.pydata.org/\n",
    "<hr>"
   ]
  },
  {
   "cell_type": "code",
   "execution_count": 1,
   "id": "9aac6a2f",
   "metadata": {
    "execution": {
     "iopub.execute_input": "2022-08-30T21:40:57.192914Z",
     "iopub.status.busy": "2022-08-30T21:40:57.191605Z",
     "iopub.status.idle": "2022-08-30T21:40:59.553377Z",
     "shell.execute_reply": "2022-08-30T21:40:59.552084Z"
    },
    "papermill": {
     "duration": 2.373481,
     "end_time": "2022-08-30T21:40:59.556903",
     "exception": false,
     "start_time": "2022-08-30T21:40:57.183422",
     "status": "completed"
    },
    "tags": []
   },
   "outputs": [],
   "source": [
    "import pandas as pd \n",
    "import matplotlib.pyplot as plt \n",
    "import numpy as np \n",
    "import seaborn as sns\n",
    "import plotly.express as px\n",
    "import plotly.graph_objects as go"
   ]
  },
  {
   "cell_type": "code",
   "execution_count": 2,
   "id": "c4933fcb",
   "metadata": {
    "execution": {
     "iopub.execute_input": "2022-08-30T21:40:59.573495Z",
     "iopub.status.busy": "2022-08-30T21:40:59.572254Z",
     "iopub.status.idle": "2022-08-30T21:41:00.753705Z",
     "shell.execute_reply": "2022-08-30T21:41:00.752443Z"
    },
    "papermill": {
     "duration": 1.192594,
     "end_time": "2022-08-30T21:41:00.756724",
     "exception": false,
     "start_time": "2022-08-30T21:40:59.564130",
     "status": "completed"
    },
    "tags": []
   },
   "outputs": [],
   "source": [
    "df = pd.read_csv(\"../input/crime-data-set/Crime_Data.csv\")"
   ]
  },
  {
   "cell_type": "markdown",
   "id": "0b850750",
   "metadata": {
    "papermill": {
     "duration": 0.006513,
     "end_time": "2022-08-30T21:41:00.769912",
     "exception": false,
     "start_time": "2022-08-30T21:41:00.763399",
     "status": "completed"
    },
    "tags": []
   },
   "source": [
    "# Get Started 🎬 \n",
    "\n",
    "<div class=\"alert alert-block alert-info\" style=\"font-size:16px; font-family:Helvetica;\">\n",
    "     📌  We started like all always getting some global information about the dataset (mean,max,type of data,number of columns and more)\n",
    "</div>\n"
   ]
  },
  {
   "cell_type": "code",
   "execution_count": 3,
   "id": "0b3fc6c8",
   "metadata": {
    "execution": {
     "iopub.execute_input": "2022-08-30T21:41:00.785462Z",
     "iopub.status.busy": "2022-08-30T21:41:00.785038Z",
     "iopub.status.idle": "2022-08-30T21:41:00.813221Z",
     "shell.execute_reply": "2022-08-30T21:41:00.812023Z"
    },
    "papermill": {
     "duration": 0.038869,
     "end_time": "2022-08-30T21:41:00.815557",
     "exception": false,
     "start_time": "2022-08-30T21:41:00.776688",
     "status": "completed"
    },
    "tags": []
   },
   "outputs": [
    {
     "data": {
      "text/html": [
       "<div>\n",
       "<style scoped>\n",
       "    .dataframe tbody tr th:only-of-type {\n",
       "        vertical-align: middle;\n",
       "    }\n",
       "\n",
       "    .dataframe tbody tr th {\n",
       "        vertical-align: top;\n",
       "    }\n",
       "\n",
       "    .dataframe thead th {\n",
       "        text-align: right;\n",
       "    }\n",
       "</style>\n",
       "<table border=\"1\" class=\"dataframe\">\n",
       "  <thead>\n",
       "    <tr style=\"text-align: right;\">\n",
       "      <th></th>\n",
       "      <th>Report Number</th>\n",
       "      <th>Occurred Date</th>\n",
       "      <th>Occurred Time</th>\n",
       "      <th>Reported Date</th>\n",
       "      <th>Reported Time</th>\n",
       "      <th>Crime Subcategory</th>\n",
       "      <th>Primary Offense Description</th>\n",
       "      <th>Precinct</th>\n",
       "      <th>Sector</th>\n",
       "      <th>Beat</th>\n",
       "      <th>Neighborhood</th>\n",
       "    </tr>\n",
       "  </thead>\n",
       "  <tbody>\n",
       "    <tr>\n",
       "      <th>0</th>\n",
       "      <td>20080000465209</td>\n",
       "      <td>12/13/1908</td>\n",
       "      <td>2114.0</td>\n",
       "      <td>12/13/2008</td>\n",
       "      <td>2114.0</td>\n",
       "      <td>DUI</td>\n",
       "      <td>DUI-LIQUOR</td>\n",
       "      <td>EAST</td>\n",
       "      <td>G</td>\n",
       "      <td>G2</td>\n",
       "      <td>CENTRAL AREA/SQUIRE PARK</td>\n",
       "    </tr>\n",
       "    <tr>\n",
       "      <th>1</th>\n",
       "      <td>20100000202011</td>\n",
       "      <td>06/15/1964</td>\n",
       "      <td>0.0</td>\n",
       "      <td>06/15/2010</td>\n",
       "      <td>1031.0</td>\n",
       "      <td>FAMILY OFFENSE-NONVIOLENT</td>\n",
       "      <td>CHILD-OTHER</td>\n",
       "      <td>WEST</td>\n",
       "      <td>Q</td>\n",
       "      <td>Q2</td>\n",
       "      <td>QUEEN ANNE</td>\n",
       "    </tr>\n",
       "    <tr>\n",
       "      <th>2</th>\n",
       "      <td>2012000023437</td>\n",
       "      <td>01/01/1973</td>\n",
       "      <td>0.0</td>\n",
       "      <td>01/25/2012</td>\n",
       "      <td>1048.0</td>\n",
       "      <td>SEX OFFENSE-OTHER</td>\n",
       "      <td>SEXOFF-OTHER</td>\n",
       "      <td>NORTH</td>\n",
       "      <td>N</td>\n",
       "      <td>N2</td>\n",
       "      <td>NORTHGATE</td>\n",
       "    </tr>\n",
       "    <tr>\n",
       "      <th>3</th>\n",
       "      <td>20130000327785</td>\n",
       "      <td>06/01/1974</td>\n",
       "      <td>0.0</td>\n",
       "      <td>09/09/2013</td>\n",
       "      <td>1117.0</td>\n",
       "      <td>SEX OFFENSE-OTHER</td>\n",
       "      <td>SEXOFF-OTHER</td>\n",
       "      <td>UNKNOWN</td>\n",
       "      <td>NaN</td>\n",
       "      <td>NaN</td>\n",
       "      <td>UNKNOWN</td>\n",
       "    </tr>\n",
       "    <tr>\n",
       "      <th>4</th>\n",
       "      <td>20160000289384</td>\n",
       "      <td>01/01/1975</td>\n",
       "      <td>0.0</td>\n",
       "      <td>08/11/2016</td>\n",
       "      <td>1054.0</td>\n",
       "      <td>SEX OFFENSE-OTHER</td>\n",
       "      <td>SEXOFF-OTHER</td>\n",
       "      <td>UNKNOWN</td>\n",
       "      <td>NaN</td>\n",
       "      <td>NaN</td>\n",
       "      <td>UNKNOWN</td>\n",
       "    </tr>\n",
       "  </tbody>\n",
       "</table>\n",
       "</div>"
      ],
      "text/plain": [
       "    Report Number Occurred Date  Occurred Time Reported Date  Reported Time  \\\n",
       "0  20080000465209    12/13/1908         2114.0    12/13/2008         2114.0   \n",
       "1  20100000202011    06/15/1964            0.0    06/15/2010         1031.0   \n",
       "2   2012000023437    01/01/1973            0.0    01/25/2012         1048.0   \n",
       "3  20130000327785    06/01/1974            0.0    09/09/2013         1117.0   \n",
       "4  20160000289384    01/01/1975            0.0    08/11/2016         1054.0   \n",
       "\n",
       "           Crime Subcategory Primary Offense Description Precinct Sector Beat  \\\n",
       "0                        DUI                  DUI-LIQUOR     EAST      G   G2   \n",
       "1  FAMILY OFFENSE-NONVIOLENT                 CHILD-OTHER     WEST      Q   Q2   \n",
       "2          SEX OFFENSE-OTHER                SEXOFF-OTHER    NORTH      N   N2   \n",
       "3          SEX OFFENSE-OTHER                SEXOFF-OTHER  UNKNOWN    NaN  NaN   \n",
       "4          SEX OFFENSE-OTHER                SEXOFF-OTHER  UNKNOWN    NaN  NaN   \n",
       "\n",
       "               Neighborhood  \n",
       "0  CENTRAL AREA/SQUIRE PARK  \n",
       "1                QUEEN ANNE  \n",
       "2                 NORTHGATE  \n",
       "3                   UNKNOWN  \n",
       "4                   UNKNOWN  "
      ]
     },
     "execution_count": 3,
     "metadata": {},
     "output_type": "execute_result"
    }
   ],
   "source": [
    "df.head()"
   ]
  },
  {
   "cell_type": "code",
   "execution_count": 4,
   "id": "5e9e2b3c",
   "metadata": {
    "execution": {
     "iopub.execute_input": "2022-08-30T21:41:00.831569Z",
     "iopub.status.busy": "2022-08-30T21:41:00.830820Z",
     "iopub.status.idle": "2022-08-30T21:41:00.964572Z",
     "shell.execute_reply": "2022-08-30T21:41:00.963339Z"
    },
    "papermill": {
     "duration": 0.144628,
     "end_time": "2022-08-30T21:41:00.967269",
     "exception": false,
     "start_time": "2022-08-30T21:41:00.822641",
     "status": "completed"
    },
    "tags": []
   },
   "outputs": [
    {
     "data": {
      "text/html": [
       "<div>\n",
       "<style scoped>\n",
       "    .dataframe tbody tr th:only-of-type {\n",
       "        vertical-align: middle;\n",
       "    }\n",
       "\n",
       "    .dataframe tbody tr th {\n",
       "        vertical-align: top;\n",
       "    }\n",
       "\n",
       "    .dataframe thead th {\n",
       "        text-align: right;\n",
       "    }\n",
       "</style>\n",
       "<table border=\"1\" class=\"dataframe\">\n",
       "  <thead>\n",
       "    <tr style=\"text-align: right;\">\n",
       "      <th></th>\n",
       "      <th>Report Number</th>\n",
       "      <th>Occurred Time</th>\n",
       "      <th>Reported Time</th>\n",
       "    </tr>\n",
       "  </thead>\n",
       "  <tbody>\n",
       "    <tr>\n",
       "      <th>count</th>\n",
       "      <td>4.813760e+05</td>\n",
       "      <td>481374.000000</td>\n",
       "      <td>481374.000000</td>\n",
       "    </tr>\n",
       "    <tr>\n",
       "      <th>mean</th>\n",
       "      <td>1.632547e+13</td>\n",
       "      <td>1362.029547</td>\n",
       "      <td>1354.701866</td>\n",
       "    </tr>\n",
       "    <tr>\n",
       "      <th>std</th>\n",
       "      <td>8.611175e+12</td>\n",
       "      <td>687.881174</td>\n",
       "      <td>590.661552</td>\n",
       "    </tr>\n",
       "    <tr>\n",
       "      <th>min</th>\n",
       "      <td>2.008000e+08</td>\n",
       "      <td>0.000000</td>\n",
       "      <td>0.000000</td>\n",
       "    </tr>\n",
       "    <tr>\n",
       "      <th>25%</th>\n",
       "      <td>2.008000e+13</td>\n",
       "      <td>900.000000</td>\n",
       "      <td>950.000000</td>\n",
       "    </tr>\n",
       "    <tr>\n",
       "      <th>50%</th>\n",
       "      <td>2.012000e+13</td>\n",
       "      <td>1500.000000</td>\n",
       "      <td>1408.000000</td>\n",
       "    </tr>\n",
       "    <tr>\n",
       "      <th>75%</th>\n",
       "      <td>2.015000e+13</td>\n",
       "      <td>1923.000000</td>\n",
       "      <td>1818.000000</td>\n",
       "    </tr>\n",
       "    <tr>\n",
       "      <th>max</th>\n",
       "      <td>2.011000e+15</td>\n",
       "      <td>2359.000000</td>\n",
       "      <td>2359.000000</td>\n",
       "    </tr>\n",
       "  </tbody>\n",
       "</table>\n",
       "</div>"
      ],
      "text/plain": [
       "       Report Number  Occurred Time  Reported Time\n",
       "count   4.813760e+05  481374.000000  481374.000000\n",
       "mean    1.632547e+13    1362.029547    1354.701866\n",
       "std     8.611175e+12     687.881174     590.661552\n",
       "min     2.008000e+08       0.000000       0.000000\n",
       "25%     2.008000e+13     900.000000     950.000000\n",
       "50%     2.012000e+13    1500.000000    1408.000000\n",
       "75%     2.015000e+13    1923.000000    1818.000000\n",
       "max     2.011000e+15    2359.000000    2359.000000"
      ]
     },
     "execution_count": 4,
     "metadata": {},
     "output_type": "execute_result"
    }
   ],
   "source": [
    "df.describe()"
   ]
  },
  {
   "cell_type": "code",
   "execution_count": 5,
   "id": "f2f7fae3",
   "metadata": {
    "execution": {
     "iopub.execute_input": "2022-08-30T21:41:00.983639Z",
     "iopub.status.busy": "2022-08-30T21:41:00.983179Z",
     "iopub.status.idle": "2022-08-30T21:41:01.172787Z",
     "shell.execute_reply": "2022-08-30T21:41:01.171275Z"
    },
    "papermill": {
     "duration": 0.200595,
     "end_time": "2022-08-30T21:41:01.175281",
     "exception": false,
     "start_time": "2022-08-30T21:41:00.974686",
     "status": "completed"
    },
    "tags": []
   },
   "outputs": [
    {
     "name": "stdout",
     "output_type": "stream",
     "text": [
      "<class 'pandas.core.frame.DataFrame'>\n",
      "RangeIndex: 481376 entries, 0 to 481375\n",
      "Data columns (total 11 columns):\n",
      " #   Column                       Non-Null Count   Dtype  \n",
      "---  ------                       --------------   -----  \n",
      " 0   Report Number                481376 non-null  int64  \n",
      " 1   Occurred Date                481374 non-null  object \n",
      " 2   Occurred Time                481374 non-null  float64\n",
      " 3   Reported Date                481376 non-null  object \n",
      " 4   Reported Time                481374 non-null  float64\n",
      " 5   Crime Subcategory            481114 non-null  object \n",
      " 6   Primary Offense Description  481376 non-null  object \n",
      " 7   Precinct                     481370 non-null  object \n",
      " 8   Sector                       478367 non-null  object \n",
      " 9   Beat                         478414 non-null  object \n",
      " 10  Neighborhood                 481376 non-null  object \n",
      "dtypes: float64(2), int64(1), object(8)\n",
      "memory usage: 40.4+ MB\n"
     ]
    },
    {
     "data": {
      "text/plain": [
       "(None, 481376)"
      ]
     },
     "execution_count": 5,
     "metadata": {},
     "output_type": "execute_result"
    }
   ],
   "source": [
    "df.info(),len(df)"
   ]
  },
  {
   "cell_type": "markdown",
   "id": "7ea1217a",
   "metadata": {
    "papermill": {
     "duration": 0.007297,
     "end_time": "2022-08-30T21:41:01.190233",
     "exception": false,
     "start_time": "2022-08-30T21:41:01.182936",
     "status": "completed"
    },
    "tags": []
   },
   "source": [
    "\n",
    "<div class=\"alert alert-block alert-info\" style=\"font-size:16px; font-family:Helvetica;\">\n",
    "     📌  10 columns with two float type I'm not sure about what occured time is calculated (minutes,seconde ??) \n",
    "We have 481376 saved crimes this is lots of data and this is interesting to exploit.\n",
    "Firstly we can say that the report number do not impact at all the whole dataset that only like a primary key in a database.We have some Nan values we'll see if it's frequent.\n",
    "</div>\n"
   ]
  },
  {
   "cell_type": "markdown",
   "id": "56bdd535",
   "metadata": {
    "papermill": {
     "duration": 0.007993,
     "end_time": "2022-08-30T21:41:01.205732",
     "exception": false,
     "start_time": "2022-08-30T21:41:01.197739",
     "status": "completed"
    },
    "tags": []
   },
   "source": [
    "# Deep Analysis  "
   ]
  },
  {
   "cell_type": "markdown",
   "id": "f51eeb90",
   "metadata": {
    "papermill": {
     "duration": 0.007992,
     "end_time": "2022-08-30T21:41:01.221311",
     "exception": false,
     "start_time": "2022-08-30T21:41:01.213319",
     "status": "completed"
    },
    "tags": []
   },
   "source": [
    "### Occured Date \n",
    "Let's change the datatype of the occured type to date Time "
   ]
  },
  {
   "cell_type": "code",
   "execution_count": 6,
   "id": "8f8e2c90",
   "metadata": {
    "execution": {
     "iopub.execute_input": "2022-08-30T21:41:01.237953Z",
     "iopub.status.busy": "2022-08-30T21:41:01.237543Z",
     "iopub.status.idle": "2022-08-30T21:41:01.319484Z",
     "shell.execute_reply": "2022-08-30T21:41:01.317984Z"
    },
    "papermill": {
     "duration": 0.093519,
     "end_time": "2022-08-30T21:41:01.322307",
     "exception": false,
     "start_time": "2022-08-30T21:41:01.228788",
     "status": "completed"
    },
    "tags": []
   },
   "outputs": [],
   "source": [
    "# change string to datetime format \n",
    "\n",
    "df[\"Occurred DateTime\"] = pd.to_datetime(df[\"Occurred Date\"])"
   ]
  },
  {
   "cell_type": "markdown",
   "id": "840167b9",
   "metadata": {
    "papermill": {
     "duration": 0.007406,
     "end_time": "2022-08-30T21:41:01.337260",
     "exception": false,
     "start_time": "2022-08-30T21:41:01.329854",
     "status": "completed"
    },
    "tags": []
   },
   "source": [
    "# Get 5 date where most of the crimes has been committed"
   ]
  },
  {
   "cell_type": "code",
   "execution_count": 7,
   "id": "4a246fa6",
   "metadata": {
    "execution": {
     "iopub.execute_input": "2022-08-30T21:41:01.355313Z",
     "iopub.status.busy": "2022-08-30T21:41:01.354859Z",
     "iopub.status.idle": "2022-08-30T21:41:01.375931Z",
     "shell.execute_reply": "2022-08-30T21:41:01.374778Z"
    },
    "papermill": {
     "duration": 0.033879,
     "end_time": "2022-08-30T21:41:01.378679",
     "exception": false,
     "start_time": "2022-08-30T21:41:01.344800",
     "status": "completed"
    },
    "tags": []
   },
   "outputs": [],
   "source": [
    "index = df[\"Occurred DateTime\"].value_counts().head().index\n",
    "values = df[\"Occurred DateTime\"].value_counts().head().values"
   ]
  },
  {
   "cell_type": "code",
   "execution_count": 8,
   "id": "5bf14a50",
   "metadata": {
    "execution": {
     "iopub.execute_input": "2022-08-30T21:41:01.396088Z",
     "iopub.status.busy": "2022-08-30T21:41:01.395680Z",
     "iopub.status.idle": "2022-08-30T21:41:01.404766Z",
     "shell.execute_reply": "2022-08-30T21:41:01.403568Z"
    },
    "papermill": {
     "duration": 0.02118,
     "end_time": "2022-08-30T21:41:01.407365",
     "exception": false,
     "start_time": "2022-08-30T21:41:01.386185",
     "status": "completed"
    },
    "tags": []
   },
   "outputs": [
    {
     "data": {
      "text/plain": [
       "(DatetimeIndex(['2017-07-01', '2017-05-26', '2016-01-20', '2015-12-01',\n",
       "                '2015-11-25'],\n",
       "               dtype='datetime64[ns]', freq=None),\n",
       " array([199, 192, 186, 184, 182]))"
      ]
     },
     "execution_count": 8,
     "metadata": {},
     "output_type": "execute_result"
    }
   ],
   "source": [
    "index,values"
   ]
  },
  {
   "cell_type": "code",
   "execution_count": 9,
   "id": "0e5b81aa",
   "metadata": {
    "execution": {
     "iopub.execute_input": "2022-08-30T21:41:01.424391Z",
     "iopub.status.busy": "2022-08-30T21:41:01.423962Z",
     "iopub.status.idle": "2022-08-30T21:41:02.685089Z",
     "shell.execute_reply": "2022-08-30T21:41:02.683863Z"
    },
    "papermill": {
     "duration": 1.272381,
     "end_time": "2022-08-30T21:41:02.687471",
     "exception": false,
     "start_time": "2022-08-30T21:41:01.415090",
     "status": "completed"
    },
    "tags": []
   },
   "outputs": [
    {
     "data": {
      "text/html": [
       "        <script type=\"text/javascript\">\n",
       "        window.PlotlyConfig = {MathJaxConfig: 'local'};\n",
       "        if (window.MathJax && window.MathJax.Hub && window.MathJax.Hub.Config) {window.MathJax.Hub.Config({SVG: {font: \"STIX-Web\"}});}\n",
       "        if (typeof require !== 'undefined') {\n",
       "        require.undef(\"plotly\");\n",
       "        requirejs.config({\n",
       "            paths: {\n",
       "                'plotly': ['https://cdn.plot.ly/plotly-2.14.0.min']\n",
       "            }\n",
       "        });\n",
       "        require(['plotly'], function(Plotly) {\n",
       "            window._Plotly = Plotly;\n",
       "        });\n",
       "        }\n",
       "        </script>\n",
       "        "
      ]
     },
     "metadata": {},
     "output_type": "display_data"
    },
    {
     "data": {
      "text/html": [
       "<div>                            <div id=\"ba374c56-5a0f-4b67-bb92-bcd1243b5611\" class=\"plotly-graph-div\" style=\"height:525px; width:100%;\"></div>            <script type=\"text/javascript\">                require([\"plotly\"], function(Plotly) {                    window.PLOTLYENV=window.PLOTLYENV || {};                                    if (document.getElementById(\"ba374c56-5a0f-4b67-bb92-bcd1243b5611\")) {                    Plotly.newPlot(                        \"ba374c56-5a0f-4b67-bb92-bcd1243b5611\",                        [{\"hovertemplate\":\"x=%{x}<br>y=%{y}<extra></extra>\",\"legendgroup\":\"\",\"line\":{\"color\":\"#636efa\",\"dash\":\"solid\"},\"marker\":{\"symbol\":\"circle\"},\"mode\":\"lines\",\"name\":\"\",\"orientation\":\"v\",\"showlegend\":false,\"x\":[\"2017-07-01T00:00:00\",\"2017-05-26T00:00:00\",\"2016-01-20T00:00:00\",\"2015-12-01T00:00:00\",\"2015-11-25T00:00:00\"],\"xaxis\":\"x\",\"y\":[199,192,186,184,182],\"yaxis\":\"y\",\"type\":\"scatter\"}],                        {\"template\":{\"data\":{\"histogram2dcontour\":[{\"type\":\"histogram2dcontour\",\"colorbar\":{\"outlinewidth\":0,\"ticks\":\"\"},\"colorscale\":[[0.0,\"#0d0887\"],[0.1111111111111111,\"#46039f\"],[0.2222222222222222,\"#7201a8\"],[0.3333333333333333,\"#9c179e\"],[0.4444444444444444,\"#bd3786\"],[0.5555555555555556,\"#d8576b\"],[0.6666666666666666,\"#ed7953\"],[0.7777777777777778,\"#fb9f3a\"],[0.8888888888888888,\"#fdca26\"],[1.0,\"#f0f921\"]]}],\"choropleth\":[{\"type\":\"choropleth\",\"colorbar\":{\"outlinewidth\":0,\"ticks\":\"\"}}],\"histogram2d\":[{\"type\":\"histogram2d\",\"colorbar\":{\"outlinewidth\":0,\"ticks\":\"\"},\"colorscale\":[[0.0,\"#0d0887\"],[0.1111111111111111,\"#46039f\"],[0.2222222222222222,\"#7201a8\"],[0.3333333333333333,\"#9c179e\"],[0.4444444444444444,\"#bd3786\"],[0.5555555555555556,\"#d8576b\"],[0.6666666666666666,\"#ed7953\"],[0.7777777777777778,\"#fb9f3a\"],[0.8888888888888888,\"#fdca26\"],[1.0,\"#f0f921\"]]}],\"heatmap\":[{\"type\":\"heatmap\",\"colorbar\":{\"outlinewidth\":0,\"ticks\":\"\"},\"colorscale\":[[0.0,\"#0d0887\"],[0.1111111111111111,\"#46039f\"],[0.2222222222222222,\"#7201a8\"],[0.3333333333333333,\"#9c179e\"],[0.4444444444444444,\"#bd3786\"],[0.5555555555555556,\"#d8576b\"],[0.6666666666666666,\"#ed7953\"],[0.7777777777777778,\"#fb9f3a\"],[0.8888888888888888,\"#fdca26\"],[1.0,\"#f0f921\"]]}],\"heatmapgl\":[{\"type\":\"heatmapgl\",\"colorbar\":{\"outlinewidth\":0,\"ticks\":\"\"},\"colorscale\":[[0.0,\"#0d0887\"],[0.1111111111111111,\"#46039f\"],[0.2222222222222222,\"#7201a8\"],[0.3333333333333333,\"#9c179e\"],[0.4444444444444444,\"#bd3786\"],[0.5555555555555556,\"#d8576b\"],[0.6666666666666666,\"#ed7953\"],[0.7777777777777778,\"#fb9f3a\"],[0.8888888888888888,\"#fdca26\"],[1.0,\"#f0f921\"]]}],\"contourcarpet\":[{\"type\":\"contourcarpet\",\"colorbar\":{\"outlinewidth\":0,\"ticks\":\"\"}}],\"contour\":[{\"type\":\"contour\",\"colorbar\":{\"outlinewidth\":0,\"ticks\":\"\"},\"colorscale\":[[0.0,\"#0d0887\"],[0.1111111111111111,\"#46039f\"],[0.2222222222222222,\"#7201a8\"],[0.3333333333333333,\"#9c179e\"],[0.4444444444444444,\"#bd3786\"],[0.5555555555555556,\"#d8576b\"],[0.6666666666666666,\"#ed7953\"],[0.7777777777777778,\"#fb9f3a\"],[0.8888888888888888,\"#fdca26\"],[1.0,\"#f0f921\"]]}],\"surface\":[{\"type\":\"surface\",\"colorbar\":{\"outlinewidth\":0,\"ticks\":\"\"},\"colorscale\":[[0.0,\"#0d0887\"],[0.1111111111111111,\"#46039f\"],[0.2222222222222222,\"#7201a8\"],[0.3333333333333333,\"#9c179e\"],[0.4444444444444444,\"#bd3786\"],[0.5555555555555556,\"#d8576b\"],[0.6666666666666666,\"#ed7953\"],[0.7777777777777778,\"#fb9f3a\"],[0.8888888888888888,\"#fdca26\"],[1.0,\"#f0f921\"]]}],\"mesh3d\":[{\"type\":\"mesh3d\",\"colorbar\":{\"outlinewidth\":0,\"ticks\":\"\"}}],\"scatter\":[{\"fillpattern\":{\"fillmode\":\"overlay\",\"size\":10,\"solidity\":0.2},\"type\":\"scatter\"}],\"parcoords\":[{\"type\":\"parcoords\",\"line\":{\"colorbar\":{\"outlinewidth\":0,\"ticks\":\"\"}}}],\"scatterpolargl\":[{\"type\":\"scatterpolargl\",\"marker\":{\"colorbar\":{\"outlinewidth\":0,\"ticks\":\"\"}}}],\"bar\":[{\"error_x\":{\"color\":\"#2a3f5f\"},\"error_y\":{\"color\":\"#2a3f5f\"},\"marker\":{\"line\":{\"color\":\"#E5ECF6\",\"width\":0.5},\"pattern\":{\"fillmode\":\"overlay\",\"size\":10,\"solidity\":0.2}},\"type\":\"bar\"}],\"scattergeo\":[{\"type\":\"scattergeo\",\"marker\":{\"colorbar\":{\"outlinewidth\":0,\"ticks\":\"\"}}}],\"scatterpolar\":[{\"type\":\"scatterpolar\",\"marker\":{\"colorbar\":{\"outlinewidth\":0,\"ticks\":\"\"}}}],\"histogram\":[{\"marker\":{\"pattern\":{\"fillmode\":\"overlay\",\"size\":10,\"solidity\":0.2}},\"type\":\"histogram\"}],\"scattergl\":[{\"type\":\"scattergl\",\"marker\":{\"colorbar\":{\"outlinewidth\":0,\"ticks\":\"\"}}}],\"scatter3d\":[{\"type\":\"scatter3d\",\"line\":{\"colorbar\":{\"outlinewidth\":0,\"ticks\":\"\"}},\"marker\":{\"colorbar\":{\"outlinewidth\":0,\"ticks\":\"\"}}}],\"scattermapbox\":[{\"type\":\"scattermapbox\",\"marker\":{\"colorbar\":{\"outlinewidth\":0,\"ticks\":\"\"}}}],\"scatterternary\":[{\"type\":\"scatterternary\",\"marker\":{\"colorbar\":{\"outlinewidth\":0,\"ticks\":\"\"}}}],\"scattercarpet\":[{\"type\":\"scattercarpet\",\"marker\":{\"colorbar\":{\"outlinewidth\":0,\"ticks\":\"\"}}}],\"carpet\":[{\"aaxis\":{\"endlinecolor\":\"#2a3f5f\",\"gridcolor\":\"white\",\"linecolor\":\"white\",\"minorgridcolor\":\"white\",\"startlinecolor\":\"#2a3f5f\"},\"baxis\":{\"endlinecolor\":\"#2a3f5f\",\"gridcolor\":\"white\",\"linecolor\":\"white\",\"minorgridcolor\":\"white\",\"startlinecolor\":\"#2a3f5f\"},\"type\":\"carpet\"}],\"table\":[{\"cells\":{\"fill\":{\"color\":\"#EBF0F8\"},\"line\":{\"color\":\"white\"}},\"header\":{\"fill\":{\"color\":\"#C8D4E3\"},\"line\":{\"color\":\"white\"}},\"type\":\"table\"}],\"barpolar\":[{\"marker\":{\"line\":{\"color\":\"#E5ECF6\",\"width\":0.5},\"pattern\":{\"fillmode\":\"overlay\",\"size\":10,\"solidity\":0.2}},\"type\":\"barpolar\"}],\"pie\":[{\"automargin\":true,\"type\":\"pie\"}]},\"layout\":{\"autotypenumbers\":\"strict\",\"colorway\":[\"#636efa\",\"#EF553B\",\"#00cc96\",\"#ab63fa\",\"#FFA15A\",\"#19d3f3\",\"#FF6692\",\"#B6E880\",\"#FF97FF\",\"#FECB52\"],\"font\":{\"color\":\"#2a3f5f\"},\"hovermode\":\"closest\",\"hoverlabel\":{\"align\":\"left\"},\"paper_bgcolor\":\"white\",\"plot_bgcolor\":\"#E5ECF6\",\"polar\":{\"bgcolor\":\"#E5ECF6\",\"angularaxis\":{\"gridcolor\":\"white\",\"linecolor\":\"white\",\"ticks\":\"\"},\"radialaxis\":{\"gridcolor\":\"white\",\"linecolor\":\"white\",\"ticks\":\"\"}},\"ternary\":{\"bgcolor\":\"#E5ECF6\",\"aaxis\":{\"gridcolor\":\"white\",\"linecolor\":\"white\",\"ticks\":\"\"},\"baxis\":{\"gridcolor\":\"white\",\"linecolor\":\"white\",\"ticks\":\"\"},\"caxis\":{\"gridcolor\":\"white\",\"linecolor\":\"white\",\"ticks\":\"\"}},\"coloraxis\":{\"colorbar\":{\"outlinewidth\":0,\"ticks\":\"\"}},\"colorscale\":{\"sequential\":[[0.0,\"#0d0887\"],[0.1111111111111111,\"#46039f\"],[0.2222222222222222,\"#7201a8\"],[0.3333333333333333,\"#9c179e\"],[0.4444444444444444,\"#bd3786\"],[0.5555555555555556,\"#d8576b\"],[0.6666666666666666,\"#ed7953\"],[0.7777777777777778,\"#fb9f3a\"],[0.8888888888888888,\"#fdca26\"],[1.0,\"#f0f921\"]],\"sequentialminus\":[[0.0,\"#0d0887\"],[0.1111111111111111,\"#46039f\"],[0.2222222222222222,\"#7201a8\"],[0.3333333333333333,\"#9c179e\"],[0.4444444444444444,\"#bd3786\"],[0.5555555555555556,\"#d8576b\"],[0.6666666666666666,\"#ed7953\"],[0.7777777777777778,\"#fb9f3a\"],[0.8888888888888888,\"#fdca26\"],[1.0,\"#f0f921\"]],\"diverging\":[[0,\"#8e0152\"],[0.1,\"#c51b7d\"],[0.2,\"#de77ae\"],[0.3,\"#f1b6da\"],[0.4,\"#fde0ef\"],[0.5,\"#f7f7f7\"],[0.6,\"#e6f5d0\"],[0.7,\"#b8e186\"],[0.8,\"#7fbc41\"],[0.9,\"#4d9221\"],[1,\"#276419\"]]},\"xaxis\":{\"gridcolor\":\"white\",\"linecolor\":\"white\",\"ticks\":\"\",\"title\":{\"standoff\":15},\"zerolinecolor\":\"white\",\"automargin\":true,\"zerolinewidth\":2},\"yaxis\":{\"gridcolor\":\"white\",\"linecolor\":\"white\",\"ticks\":\"\",\"title\":{\"standoff\":15},\"zerolinecolor\":\"white\",\"automargin\":true,\"zerolinewidth\":2},\"scene\":{\"xaxis\":{\"backgroundcolor\":\"#E5ECF6\",\"gridcolor\":\"white\",\"linecolor\":\"white\",\"showbackground\":true,\"ticks\":\"\",\"zerolinecolor\":\"white\",\"gridwidth\":2},\"yaxis\":{\"backgroundcolor\":\"#E5ECF6\",\"gridcolor\":\"white\",\"linecolor\":\"white\",\"showbackground\":true,\"ticks\":\"\",\"zerolinecolor\":\"white\",\"gridwidth\":2},\"zaxis\":{\"backgroundcolor\":\"#E5ECF6\",\"gridcolor\":\"white\",\"linecolor\":\"white\",\"showbackground\":true,\"ticks\":\"\",\"zerolinecolor\":\"white\",\"gridwidth\":2}},\"shapedefaults\":{\"line\":{\"color\":\"#2a3f5f\"}},\"annotationdefaults\":{\"arrowcolor\":\"#2a3f5f\",\"arrowhead\":0,\"arrowwidth\":1},\"geo\":{\"bgcolor\":\"white\",\"landcolor\":\"#E5ECF6\",\"subunitcolor\":\"white\",\"showland\":true,\"showlakes\":true,\"lakecolor\":\"white\"},\"title\":{\"x\":0.05},\"mapbox\":{\"style\":\"light\"}}},\"xaxis\":{\"anchor\":\"y\",\"domain\":[0.0,1.0],\"title\":{\"text\":\"x\"}},\"yaxis\":{\"anchor\":\"x\",\"domain\":[0.0,1.0],\"title\":{\"text\":\"y\"}},\"legend\":{\"tracegroupgap\":0},\"margin\":{\"t\":60}},                        {\"responsive\": true}                    ).then(function(){\n",
       "                            \n",
       "var gd = document.getElementById('ba374c56-5a0f-4b67-bb92-bcd1243b5611');\n",
       "var x = new MutationObserver(function (mutations, observer) {{\n",
       "        var display = window.getComputedStyle(gd).display;\n",
       "        if (!display || display === 'none') {{\n",
       "            console.log([gd, 'removed!']);\n",
       "            Plotly.purge(gd);\n",
       "            observer.disconnect();\n",
       "        }}\n",
       "}});\n",
       "\n",
       "// Listen for the removal of the full notebook cells\n",
       "var notebookContainer = gd.closest('#notebook-container');\n",
       "if (notebookContainer) {{\n",
       "    x.observe(notebookContainer, {childList: true});\n",
       "}}\n",
       "\n",
       "// Listen for the clearing of the current output cell\n",
       "var outputEl = gd.closest('.output');\n",
       "if (outputEl) {{\n",
       "    x.observe(outputEl, {childList: true});\n",
       "}}\n",
       "\n",
       "                        })                };                });            </script>        </div>"
      ]
     },
     "metadata": {},
     "output_type": "display_data"
    }
   ],
   "source": [
    "fig = px.line(x=index, y=values)\n",
    "fig.show()"
   ]
  },
  {
   "cell_type": "markdown",
   "id": "7a61c0cd",
   "metadata": {
    "papermill": {
     "duration": 0.008003,
     "end_time": "2022-08-30T21:41:02.703774",
     "exception": false,
     "start_time": "2022-08-30T21:41:02.695771",
     "status": "completed"
    },
    "tags": []
   },
   "source": [
    "<div class=\"alert alert-block alert-info\" style=\"font-size:16px; font-family:Helvetica;\">\n",
    "     📌 We can see that it increase since 2015 until the 5th of 2017 but after this it skyrocketed to more than 197 crimes registered in two month maybe we should check what happened in this years and particulary at these months\n",
    "</div>"
   ]
  },
  {
   "cell_type": "markdown",
   "id": "4cc29f28",
   "metadata": {
    "papermill": {
     "duration": 0.007522,
     "end_time": "2022-08-30T21:41:02.719197",
     "exception": false,
     "start_time": "2022-08-30T21:41:02.711675",
     "status": "completed"
    },
    "tags": []
   },
   "source": [
    "### Get the crime Subcategory at the date where most of the crimes has been committed"
   ]
  },
  {
   "cell_type": "code",
   "execution_count": 10,
   "id": "3df86b5c",
   "metadata": {
    "execution": {
     "iopub.execute_input": "2022-08-30T21:41:02.736855Z",
     "iopub.status.busy": "2022-08-30T21:41:02.736416Z",
     "iopub.status.idle": "2022-08-30T21:41:02.746741Z",
     "shell.execute_reply": "2022-08-30T21:41:02.745726Z"
    },
    "papermill": {
     "duration": 0.021977,
     "end_time": "2022-08-30T21:41:02.749076",
     "exception": false,
     "start_time": "2022-08-30T21:41:02.727099",
     "status": "completed"
    },
    "tags": []
   },
   "outputs": [],
   "source": [
    "most_crimes_date = df[df[\"Occurred DateTime\"] == \"2017-07-01\"]"
   ]
  },
  {
   "cell_type": "code",
   "execution_count": 11,
   "id": "718b2b63",
   "metadata": {
    "execution": {
     "iopub.execute_input": "2022-08-30T21:41:02.767302Z",
     "iopub.status.busy": "2022-08-30T21:41:02.766261Z",
     "iopub.status.idle": "2022-08-30T21:41:02.773333Z",
     "shell.execute_reply": "2022-08-30T21:41:02.772386Z"
    },
    "papermill": {
     "duration": 0.018311,
     "end_time": "2022-08-30T21:41:02.775467",
     "exception": false,
     "start_time": "2022-08-30T21:41:02.757156",
     "status": "completed"
    },
    "tags": []
   },
   "outputs": [
    {
     "data": {
      "text/plain": [
       "Index(['Report Number', 'Occurred Date', 'Occurred Time', 'Reported Date',\n",
       "       'Reported Time', 'Crime Subcategory', 'Primary Offense Description',\n",
       "       'Precinct', 'Sector', 'Beat', 'Neighborhood', 'Occurred DateTime'],\n",
       "      dtype='object')"
      ]
     },
     "execution_count": 11,
     "metadata": {},
     "output_type": "execute_result"
    }
   ],
   "source": [
    "df.columns"
   ]
  },
  {
   "cell_type": "code",
   "execution_count": 12,
   "id": "950d1644",
   "metadata": {
    "execution": {
     "iopub.execute_input": "2022-08-30T21:41:02.794323Z",
     "iopub.status.busy": "2022-08-30T21:41:02.793127Z",
     "iopub.status.idle": "2022-08-30T21:41:02.867943Z",
     "shell.execute_reply": "2022-08-30T21:41:02.866688Z"
    },
    "papermill": {
     "duration": 0.08649,
     "end_time": "2022-08-30T21:41:02.870364",
     "exception": false,
     "start_time": "2022-08-30T21:41:02.783874",
     "status": "completed"
    },
    "tags": []
   },
   "outputs": [
    {
     "data": {
      "text/html": [
       "<div>                            <div id=\"41ed41d8-275e-460b-8d6d-a07dd359c485\" class=\"plotly-graph-div\" style=\"height:525px; width:100%;\"></div>            <script type=\"text/javascript\">                require([\"plotly\"], function(Plotly) {                    window.PLOTLYENV=window.PLOTLYENV || {};                                    if (document.getElementById(\"41ed41d8-275e-460b-8d6d-a07dd359c485\")) {                    Plotly.newPlot(                        \"41ed41d8-275e-460b-8d6d-a07dd359c485\",                        [{\"alignmentgroup\":\"True\",\"hovertemplate\":\"x=%{x}<br>y=%{y}<extra></extra>\",\"legendgroup\":\"\",\"marker\":{\"color\":\"#636efa\",\"pattern\":{\"shape\":\"\"}},\"name\":\"\",\"offsetgroup\":\"\",\"orientation\":\"v\",\"showlegend\":false,\"textposition\":\"auto\",\"x\":[\"CAR PROWL\",\"NARCOTIC\",\"PROSTITUTION\",\"BURGLARY-COMMERCIAL\",\"THEFT-ALL OTHER\",\"THEFT-SHOPLIFT\",\"THEFT-BUILDING\",\"BURGLARY-RESIDENTIAL\",\"TRESPASS\",\"AGGRAVATED ASSAULT\",\"DUI\",\"THEFT-BICYCLE\",\"MOTOR VEHICLE THEFT\",\"SEX OFFENSE-OTHER\",\"BURGLARY-RESIDENTIAL-SECURE PARKING\",\"BURGLARY-COMMERCIAL-SECURE PARKING\",\"AGGRAVATED ASSAULT-DV\",\"RAPE\",\"FAMILY OFFENSE-NONVIOLENT\",\"ROBBERY-RESIDENTIAL\",\"LIQUOR LAW VIOLATION\",\"WEAPON\",\"ROBBERY-STREET\",\"ROBBERY-COMMERCIAL\"],\"xaxis\":\"x\",\"y\":[48,19,15,15,13,13,11,11,11,10,6,4,4,3,3,2,2,2,2,1,1,1,1,1],\"yaxis\":\"y\",\"type\":\"bar\"}],                        {\"template\":{\"data\":{\"histogram2dcontour\":[{\"type\":\"histogram2dcontour\",\"colorbar\":{\"outlinewidth\":0,\"ticks\":\"\"},\"colorscale\":[[0.0,\"#0d0887\"],[0.1111111111111111,\"#46039f\"],[0.2222222222222222,\"#7201a8\"],[0.3333333333333333,\"#9c179e\"],[0.4444444444444444,\"#bd3786\"],[0.5555555555555556,\"#d8576b\"],[0.6666666666666666,\"#ed7953\"],[0.7777777777777778,\"#fb9f3a\"],[0.8888888888888888,\"#fdca26\"],[1.0,\"#f0f921\"]]}],\"choropleth\":[{\"type\":\"choropleth\",\"colorbar\":{\"outlinewidth\":0,\"ticks\":\"\"}}],\"histogram2d\":[{\"type\":\"histogram2d\",\"colorbar\":{\"outlinewidth\":0,\"ticks\":\"\"},\"colorscale\":[[0.0,\"#0d0887\"],[0.1111111111111111,\"#46039f\"],[0.2222222222222222,\"#7201a8\"],[0.3333333333333333,\"#9c179e\"],[0.4444444444444444,\"#bd3786\"],[0.5555555555555556,\"#d8576b\"],[0.6666666666666666,\"#ed7953\"],[0.7777777777777778,\"#fb9f3a\"],[0.8888888888888888,\"#fdca26\"],[1.0,\"#f0f921\"]]}],\"heatmap\":[{\"type\":\"heatmap\",\"colorbar\":{\"outlinewidth\":0,\"ticks\":\"\"},\"colorscale\":[[0.0,\"#0d0887\"],[0.1111111111111111,\"#46039f\"],[0.2222222222222222,\"#7201a8\"],[0.3333333333333333,\"#9c179e\"],[0.4444444444444444,\"#bd3786\"],[0.5555555555555556,\"#d8576b\"],[0.6666666666666666,\"#ed7953\"],[0.7777777777777778,\"#fb9f3a\"],[0.8888888888888888,\"#fdca26\"],[1.0,\"#f0f921\"]]}],\"heatmapgl\":[{\"type\":\"heatmapgl\",\"colorbar\":{\"outlinewidth\":0,\"ticks\":\"\"},\"colorscale\":[[0.0,\"#0d0887\"],[0.1111111111111111,\"#46039f\"],[0.2222222222222222,\"#7201a8\"],[0.3333333333333333,\"#9c179e\"],[0.4444444444444444,\"#bd3786\"],[0.5555555555555556,\"#d8576b\"],[0.6666666666666666,\"#ed7953\"],[0.7777777777777778,\"#fb9f3a\"],[0.8888888888888888,\"#fdca26\"],[1.0,\"#f0f921\"]]}],\"contourcarpet\":[{\"type\":\"contourcarpet\",\"colorbar\":{\"outlinewidth\":0,\"ticks\":\"\"}}],\"contour\":[{\"type\":\"contour\",\"colorbar\":{\"outlinewidth\":0,\"ticks\":\"\"},\"colorscale\":[[0.0,\"#0d0887\"],[0.1111111111111111,\"#46039f\"],[0.2222222222222222,\"#7201a8\"],[0.3333333333333333,\"#9c179e\"],[0.4444444444444444,\"#bd3786\"],[0.5555555555555556,\"#d8576b\"],[0.6666666666666666,\"#ed7953\"],[0.7777777777777778,\"#fb9f3a\"],[0.8888888888888888,\"#fdca26\"],[1.0,\"#f0f921\"]]}],\"surface\":[{\"type\":\"surface\",\"colorbar\":{\"outlinewidth\":0,\"ticks\":\"\"},\"colorscale\":[[0.0,\"#0d0887\"],[0.1111111111111111,\"#46039f\"],[0.2222222222222222,\"#7201a8\"],[0.3333333333333333,\"#9c179e\"],[0.4444444444444444,\"#bd3786\"],[0.5555555555555556,\"#d8576b\"],[0.6666666666666666,\"#ed7953\"],[0.7777777777777778,\"#fb9f3a\"],[0.8888888888888888,\"#fdca26\"],[1.0,\"#f0f921\"]]}],\"mesh3d\":[{\"type\":\"mesh3d\",\"colorbar\":{\"outlinewidth\":0,\"ticks\":\"\"}}],\"scatter\":[{\"fillpattern\":{\"fillmode\":\"overlay\",\"size\":10,\"solidity\":0.2},\"type\":\"scatter\"}],\"parcoords\":[{\"type\":\"parcoords\",\"line\":{\"colorbar\":{\"outlinewidth\":0,\"ticks\":\"\"}}}],\"scatterpolargl\":[{\"type\":\"scatterpolargl\",\"marker\":{\"colorbar\":{\"outlinewidth\":0,\"ticks\":\"\"}}}],\"bar\":[{\"error_x\":{\"color\":\"#2a3f5f\"},\"error_y\":{\"color\":\"#2a3f5f\"},\"marker\":{\"line\":{\"color\":\"#E5ECF6\",\"width\":0.5},\"pattern\":{\"fillmode\":\"overlay\",\"size\":10,\"solidity\":0.2}},\"type\":\"bar\"}],\"scattergeo\":[{\"type\":\"scattergeo\",\"marker\":{\"colorbar\":{\"outlinewidth\":0,\"ticks\":\"\"}}}],\"scatterpolar\":[{\"type\":\"scatterpolar\",\"marker\":{\"colorbar\":{\"outlinewidth\":0,\"ticks\":\"\"}}}],\"histogram\":[{\"marker\":{\"pattern\":{\"fillmode\":\"overlay\",\"size\":10,\"solidity\":0.2}},\"type\":\"histogram\"}],\"scattergl\":[{\"type\":\"scattergl\",\"marker\":{\"colorbar\":{\"outlinewidth\":0,\"ticks\":\"\"}}}],\"scatter3d\":[{\"type\":\"scatter3d\",\"line\":{\"colorbar\":{\"outlinewidth\":0,\"ticks\":\"\"}},\"marker\":{\"colorbar\":{\"outlinewidth\":0,\"ticks\":\"\"}}}],\"scattermapbox\":[{\"type\":\"scattermapbox\",\"marker\":{\"colorbar\":{\"outlinewidth\":0,\"ticks\":\"\"}}}],\"scatterternary\":[{\"type\":\"scatterternary\",\"marker\":{\"colorbar\":{\"outlinewidth\":0,\"ticks\":\"\"}}}],\"scattercarpet\":[{\"type\":\"scattercarpet\",\"marker\":{\"colorbar\":{\"outlinewidth\":0,\"ticks\":\"\"}}}],\"carpet\":[{\"aaxis\":{\"endlinecolor\":\"#2a3f5f\",\"gridcolor\":\"white\",\"linecolor\":\"white\",\"minorgridcolor\":\"white\",\"startlinecolor\":\"#2a3f5f\"},\"baxis\":{\"endlinecolor\":\"#2a3f5f\",\"gridcolor\":\"white\",\"linecolor\":\"white\",\"minorgridcolor\":\"white\",\"startlinecolor\":\"#2a3f5f\"},\"type\":\"carpet\"}],\"table\":[{\"cells\":{\"fill\":{\"color\":\"#EBF0F8\"},\"line\":{\"color\":\"white\"}},\"header\":{\"fill\":{\"color\":\"#C8D4E3\"},\"line\":{\"color\":\"white\"}},\"type\":\"table\"}],\"barpolar\":[{\"marker\":{\"line\":{\"color\":\"#E5ECF6\",\"width\":0.5},\"pattern\":{\"fillmode\":\"overlay\",\"size\":10,\"solidity\":0.2}},\"type\":\"barpolar\"}],\"pie\":[{\"automargin\":true,\"type\":\"pie\"}]},\"layout\":{\"autotypenumbers\":\"strict\",\"colorway\":[\"#636efa\",\"#EF553B\",\"#00cc96\",\"#ab63fa\",\"#FFA15A\",\"#19d3f3\",\"#FF6692\",\"#B6E880\",\"#FF97FF\",\"#FECB52\"],\"font\":{\"color\":\"#2a3f5f\"},\"hovermode\":\"closest\",\"hoverlabel\":{\"align\":\"left\"},\"paper_bgcolor\":\"white\",\"plot_bgcolor\":\"#E5ECF6\",\"polar\":{\"bgcolor\":\"#E5ECF6\",\"angularaxis\":{\"gridcolor\":\"white\",\"linecolor\":\"white\",\"ticks\":\"\"},\"radialaxis\":{\"gridcolor\":\"white\",\"linecolor\":\"white\",\"ticks\":\"\"}},\"ternary\":{\"bgcolor\":\"#E5ECF6\",\"aaxis\":{\"gridcolor\":\"white\",\"linecolor\":\"white\",\"ticks\":\"\"},\"baxis\":{\"gridcolor\":\"white\",\"linecolor\":\"white\",\"ticks\":\"\"},\"caxis\":{\"gridcolor\":\"white\",\"linecolor\":\"white\",\"ticks\":\"\"}},\"coloraxis\":{\"colorbar\":{\"outlinewidth\":0,\"ticks\":\"\"}},\"colorscale\":{\"sequential\":[[0.0,\"#0d0887\"],[0.1111111111111111,\"#46039f\"],[0.2222222222222222,\"#7201a8\"],[0.3333333333333333,\"#9c179e\"],[0.4444444444444444,\"#bd3786\"],[0.5555555555555556,\"#d8576b\"],[0.6666666666666666,\"#ed7953\"],[0.7777777777777778,\"#fb9f3a\"],[0.8888888888888888,\"#fdca26\"],[1.0,\"#f0f921\"]],\"sequentialminus\":[[0.0,\"#0d0887\"],[0.1111111111111111,\"#46039f\"],[0.2222222222222222,\"#7201a8\"],[0.3333333333333333,\"#9c179e\"],[0.4444444444444444,\"#bd3786\"],[0.5555555555555556,\"#d8576b\"],[0.6666666666666666,\"#ed7953\"],[0.7777777777777778,\"#fb9f3a\"],[0.8888888888888888,\"#fdca26\"],[1.0,\"#f0f921\"]],\"diverging\":[[0,\"#8e0152\"],[0.1,\"#c51b7d\"],[0.2,\"#de77ae\"],[0.3,\"#f1b6da\"],[0.4,\"#fde0ef\"],[0.5,\"#f7f7f7\"],[0.6,\"#e6f5d0\"],[0.7,\"#b8e186\"],[0.8,\"#7fbc41\"],[0.9,\"#4d9221\"],[1,\"#276419\"]]},\"xaxis\":{\"gridcolor\":\"white\",\"linecolor\":\"white\",\"ticks\":\"\",\"title\":{\"standoff\":15},\"zerolinecolor\":\"white\",\"automargin\":true,\"zerolinewidth\":2},\"yaxis\":{\"gridcolor\":\"white\",\"linecolor\":\"white\",\"ticks\":\"\",\"title\":{\"standoff\":15},\"zerolinecolor\":\"white\",\"automargin\":true,\"zerolinewidth\":2},\"scene\":{\"xaxis\":{\"backgroundcolor\":\"#E5ECF6\",\"gridcolor\":\"white\",\"linecolor\":\"white\",\"showbackground\":true,\"ticks\":\"\",\"zerolinecolor\":\"white\",\"gridwidth\":2},\"yaxis\":{\"backgroundcolor\":\"#E5ECF6\",\"gridcolor\":\"white\",\"linecolor\":\"white\",\"showbackground\":true,\"ticks\":\"\",\"zerolinecolor\":\"white\",\"gridwidth\":2},\"zaxis\":{\"backgroundcolor\":\"#E5ECF6\",\"gridcolor\":\"white\",\"linecolor\":\"white\",\"showbackground\":true,\"ticks\":\"\",\"zerolinecolor\":\"white\",\"gridwidth\":2}},\"shapedefaults\":{\"line\":{\"color\":\"#2a3f5f\"}},\"annotationdefaults\":{\"arrowcolor\":\"#2a3f5f\",\"arrowhead\":0,\"arrowwidth\":1},\"geo\":{\"bgcolor\":\"white\",\"landcolor\":\"#E5ECF6\",\"subunitcolor\":\"white\",\"showland\":true,\"showlakes\":true,\"lakecolor\":\"white\"},\"title\":{\"x\":0.05},\"mapbox\":{\"style\":\"light\"}}},\"xaxis\":{\"anchor\":\"y\",\"domain\":[0.0,1.0],\"title\":{\"text\":\"x\"}},\"yaxis\":{\"anchor\":\"x\",\"domain\":[0.0,1.0],\"title\":{\"text\":\"y\"}},\"legend\":{\"tracegroupgap\":0},\"margin\":{\"t\":60},\"barmode\":\"relative\"},                        {\"responsive\": true}                    ).then(function(){\n",
       "                            \n",
       "var gd = document.getElementById('41ed41d8-275e-460b-8d6d-a07dd359c485');\n",
       "var x = new MutationObserver(function (mutations, observer) {{\n",
       "        var display = window.getComputedStyle(gd).display;\n",
       "        if (!display || display === 'none') {{\n",
       "            console.log([gd, 'removed!']);\n",
       "            Plotly.purge(gd);\n",
       "            observer.disconnect();\n",
       "        }}\n",
       "}});\n",
       "\n",
       "// Listen for the removal of the full notebook cells\n",
       "var notebookContainer = gd.closest('#notebook-container');\n",
       "if (notebookContainer) {{\n",
       "    x.observe(notebookContainer, {childList: true});\n",
       "}}\n",
       "\n",
       "// Listen for the clearing of the current output cell\n",
       "var outputEl = gd.closest('.output');\n",
       "if (outputEl) {{\n",
       "    x.observe(outputEl, {childList: true});\n",
       "}}\n",
       "\n",
       "                        })                };                });            </script>        </div>"
      ]
     },
     "metadata": {},
     "output_type": "display_data"
    }
   ],
   "source": [
    "fig = px.bar(x=most_crimes_date['Crime Subcategory'].value_counts().index, y=most_crimes_date['Crime Subcategory'].value_counts().values)\n",
    "fig.show()"
   ]
  },
  {
   "cell_type": "code",
   "execution_count": 13,
   "id": "bdf5f4cd",
   "metadata": {
    "execution": {
     "iopub.execute_input": "2022-08-30T21:41:02.889341Z",
     "iopub.status.busy": "2022-08-30T21:41:02.888953Z",
     "iopub.status.idle": "2022-08-30T21:41:02.894218Z",
     "shell.execute_reply": "2022-08-30T21:41:02.893054Z"
    },
    "papermill": {
     "duration": 0.017618,
     "end_time": "2022-08-30T21:41:02.896570",
     "exception": false,
     "start_time": "2022-08-30T21:41:02.878952",
     "status": "completed"
    },
    "tags": []
   },
   "outputs": [],
   "source": [
    "# You can get the same result using seaborn\n",
    "# sns.countplot(x=most_crimes_date['Crime Subcategory'])"
   ]
  },
  {
   "cell_type": "markdown",
   "id": "0955da75",
   "metadata": {
    "execution": {
     "iopub.execute_input": "2022-08-30T21:21:56.831478Z",
     "iopub.status.busy": "2022-08-30T21:21:56.830943Z",
     "iopub.status.idle": "2022-08-30T21:21:56.837879Z",
     "shell.execute_reply": "2022-08-30T21:21:56.836192Z",
     "shell.execute_reply.started": "2022-08-30T21:21:56.831452Z"
    },
    "papermill": {
     "duration": 0.008039,
     "end_time": "2022-08-30T21:41:02.913068",
     "exception": false,
     "start_time": "2022-08-30T21:41:02.905029",
     "status": "completed"
    },
    "tags": []
   },
   "source": [
    "<div class=\"alert alert-block alert-info\" style=\"font-size:16px; font-family:Helvetica;\">\n",
    "     📌 At this date the crimes that has been the most committed was Car Prowl with 48 registration\n",
    "    at the second place we got Narcotic with only 19 registration that a big difference, now we can check\n",
    "    in which Neighborhood this time of crimes often occur.\n",
    "</div>"
   ]
  },
  {
   "cell_type": "code",
   "execution_count": 14,
   "id": "a2386ffd",
   "metadata": {
    "execution": {
     "iopub.execute_input": "2022-08-30T21:41:02.931855Z",
     "iopub.status.busy": "2022-08-30T21:41:02.931399Z",
     "iopub.status.idle": "2022-08-30T21:41:02.936839Z",
     "shell.execute_reply": "2022-08-30T21:41:02.935964Z"
    },
    "papermill": {
     "duration": 0.017176,
     "end_time": "2022-08-30T21:41:02.938801",
     "exception": false,
     "start_time": "2022-08-30T21:41:02.921625",
     "status": "completed"
    },
    "tags": []
   },
   "outputs": [],
   "source": [
    "car_prowl = most_crimes_date[most_crimes_date['Crime Subcategory'] == \"CAR PROWL\"]"
   ]
  },
  {
   "cell_type": "code",
   "execution_count": 15,
   "id": "dd616fae",
   "metadata": {
    "execution": {
     "iopub.execute_input": "2022-08-30T21:41:02.957769Z",
     "iopub.status.busy": "2022-08-30T21:41:02.957005Z",
     "iopub.status.idle": "2022-08-30T21:41:02.965411Z",
     "shell.execute_reply": "2022-08-30T21:41:02.964491Z"
    },
    "papermill": {
     "duration": 0.020612,
     "end_time": "2022-08-30T21:41:02.967736",
     "exception": false,
     "start_time": "2022-08-30T21:41:02.947124",
     "status": "completed"
    },
    "tags": []
   },
   "outputs": [
    {
     "data": {
      "text/plain": [
       "ROOSEVELT/RAVENNA      6\n",
       "SLU/CASCADE            4\n",
       "QUEEN ANNE             4\n",
       "UNIVERSITY             4\n",
       "DOWNTOWN COMMERCIAL    4\n",
       "Name: Neighborhood, dtype: int64"
      ]
     },
     "execution_count": 15,
     "metadata": {},
     "output_type": "execute_result"
    }
   ],
   "source": [
    "car_prowl.Neighborhood.value_counts().head()"
   ]
  },
  {
   "cell_type": "code",
   "execution_count": 16,
   "id": "92d07f5d",
   "metadata": {
    "execution": {
     "iopub.execute_input": "2022-08-30T21:41:02.986963Z",
     "iopub.status.busy": "2022-08-30T21:41:02.986225Z",
     "iopub.status.idle": "2022-08-30T21:41:03.221656Z",
     "shell.execute_reply": "2022-08-30T21:41:03.220589Z"
    },
    "papermill": {
     "duration": 0.247727,
     "end_time": "2022-08-30T21:41:03.223975",
     "exception": false,
     "start_time": "2022-08-30T21:41:02.976248",
     "status": "completed"
    },
    "tags": []
   },
   "outputs": [
    {
     "data": {
      "text/plain": [
       "<AxesSubplot:>"
      ]
     },
     "execution_count": 16,
     "metadata": {},
     "output_type": "execute_result"
    },
    {
     "data": {
      "image/png": "[encoded data removed]",
      "text/plain": [
       "<Figure size 432x288 with 1 Axes>"
      ]
     },
     "metadata": {
      "needs_background": "light"
     },
     "output_type": "display_data"
    }
   ],
   "source": [
    "car_prowl.Neighborhood.value_counts().head().plot.bar()"
   ]
  },
  {
   "cell_type": "markdown",
   "id": "9d2207a1",
   "metadata": {
    "papermill": {
     "duration": 0.008586,
     "end_time": "2022-08-30T21:41:03.241636",
     "exception": false,
     "start_time": "2022-08-30T21:41:03.233050",
     "status": "completed"
    },
    "tags": []
   },
   "source": [
    "<div class=\"alert alert-block alert-info\" style=\"font-size:16px; font-family:Helvetica;\">\n",
    "     📌 ROOSEVELT/RAVENNA is the neighborhood that made the most car prowl crime, we can know look at the date where most of the car prowl occur with a percentage depending on the number of crimes.\n",
    "</div>"
   ]
  },
  {
   "cell_type": "markdown",
   "id": "885f4318",
   "metadata": {
    "papermill": {
     "duration": 0.008575,
     "end_time": "2022-08-30T21:41:03.259074",
     "exception": false,
     "start_time": "2022-08-30T21:41:03.250499",
     "status": "completed"
    },
    "tags": []
   },
   "source": [
    "# Part 1 \n",
    "don't forget to upvote 🙂"
   ]
  },
  {
   "cell_type": "code",
   "execution_count": null,
   "id": "4c6fefd7",
   "metadata": {
    "papermill": {
     "duration": 0.008502,
     "end_time": "2022-08-30T21:41:03.276621",
     "exception": false,
     "start_time": "2022-08-30T21:41:03.268119",
     "status": "completed"
    },
    "tags": []
   },
   "outputs": [],
   "source": []
  }
 ],
 "metadata": {
  "kernelspec": {
   "display_name": "Python 3 (ipykernel)",
   "language": "python",
   "name": "python3"
  },
  "language_info": {
   "codemirror_mode": {
    "name": "ipython",
    "version": 3
   },
   "file_extension": ".py",
   "mimetype": "text/x-python",
   "name": "python",
   "nbconvert_exporter": "python",
   "pygments_lexer": "ipython3",
   "version": "3.9.13"
  },
  "papermill": {
   "default_parameters": {},
   "duration": 17.351166,
   "end_time": "2022-08-30T21:41:04.208293",
   "environment_variables": {},
   "exception": null,
   "input_path": "__notebook__.ipynb",
   "output_path": "__notebook__.ipynb",
   "parameters": {},
   "start_time": "2022-08-30T21:40:46.857127",
   "version": "2.3.4"
  }
 },
 "nbformat": 4,
 "nbformat_minor": 5
}
